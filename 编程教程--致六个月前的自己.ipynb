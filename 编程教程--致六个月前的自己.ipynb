{
 "cells": [
  {
   "cell_type": "markdown",
   "metadata": {},
   "source": [
    "# 编程教程"
   ]
  },
  {
   "cell_type": "markdown",
   "metadata": {},
   "source": [
    "## 一、学习方法\n",
    "1. 用不断的“输出”来学习编程。通过做《Learn Python Hard Way》上的练习和课后加分题来练习编程。代码敲完后，用给每行代码加注释的方法来确定自己理解了代码的意思。\n",
    "2. 要学会使用google。同时要有自信，没有搜不到的问题。\n",
    "3. 坚持写学习日记，记录学习的过程，对每天的学习过程和结果进行复盘。\n",
    "4. 多在github上看别人的issue和通过发issue来向同行求助。\n",
    "5. 要学会如何问问题"
   ]
  },
  {
   "cell_type": "markdown",
   "metadata": {},
   "source": [
    "## 二、编程的基础概念"
   ]
  },
  {
   "cell_type": "markdown",
   "metadata": {},
   "source": [
    "1. 数据类型\n",
    "* 整数：写法与数学上的写法一致\n",
    "```print(\"\")```"
   ]
  },
  {
   "cell_type": "code",
   "execution_count": null,
   "metadata": {
    "collapsed": true
   },
   "outputs": [],
   "source": [
    "cars = 100"
   ]
  },
  {
   "cell_type": "markdown",
   "metadata": {},
   "source": [
    "* 浮点数：小数"
   ]
  },
  {
   "cell_type": "markdown",
   "metadata": {},
   "source": [
    "* 字符串"
   ]
  },
  {
   "cell_type": "code",
   "execution_count": null,
   "metadata": {
    "collapsed": true
   },
   "outputs": [],
   "source": [
    "print (\"Hello world!\") -- 字符转义 \\"
   ]
  },
  {
   "cell_type": "markdown",
   "metadata": {},
   "source": [
    "* 布尔值:逻辑运算"
   ]
  },
  {
   "cell_type": "code",
   "execution_count": null,
   "metadata": {
    "collapsed": true
   },
   "outputs": [],
   "source": [
    "if i = 2 and i != 3"
   ]
  },
  {
   "cell_type": "markdown",
   "metadata": {},
   "source": [
    "* 列表"
   ]
  },
  {
   "cell_type": "code",
   "execution_count": null,
   "metadata": {
    "collapsed": true
   },
   "outputs": [],
   "source": [
    "films = [\"Love letters\",\"Gone with the wind\",\"Kill Bill\"]"
   ]
  },
  {
   "cell_type": "markdown",
   "metadata": {},
   "source": [
    "2. 变量: = 赋予变量值"
   ]
  },
  {
   "cell_type": "code",
   "execution_count": null,
   "metadata": {
    "collapsed": true
   },
   "outputs": [],
   "source": [
    "i = 1"
   ]
  },
  {
   "cell_type": "markdown",
   "metadata": {},
   "source": [
    "3. 函数\n",
    "函数需要注意的点：\n",
    " * 函数以def开头\n",
    " * 函数有参数\n",
    " * 函数内容行要缩略四个字符\n",
    " * python有很多Build-in-Function , 如 instance, exit等\n",
    " * 函数可以返回值"
   ]
  },
  {
   "cell_type": "code",
   "execution_count": null,
   "metadata": {
    "collapsed": true
   },
   "outputs": [],
   "source": [
    "def add(a, b):\n",
    "    print \"ADDING %d + %d\" % (a, b)\n",
    "    return a + b"
   ]
  },
  {
   "cell_type": "code",
   "execution_count": null,
   "metadata": {
    "collapsed": true
   },
   "outputs": [],
   "source": [
    "def break_words(stuff):\n",
    "    \"\"\"This function will break up words for us.\"\"\"\n",
    "    words = stuff.split(' ')\n",
    "    # split 内置函数\n",
    "    return words"
   ]
  },
  {
   "cell_type": "markdown",
   "metadata": {},
   "source": [
    "4. 条件语句： if，elif,else"
   ]
  },
  {
   "cell_type": "code",
   "execution_count": null,
   "metadata": {
    "collapsed": true
   },
   "outputs": [],
   "source": [
    "if people < cats:\n",
    "    print \"Too many cats! The world is doomed!\"\n",
    "\n",
    "if people > cats:\n",
    "    print \"Not many cats! The world is saved!\"\n",
    "\n",
    "if people > dogs:\n",
    "    print \"The world is dry!\""
   ]
  },
  {
   "cell_type": "code",
   "execution_count": null,
   "metadata": {
    "collapsed": true
   },
   "outputs": [],
   "source": [
    "if bear == \"1\":\n",
    "        print (\"The bear eats your face off. Good job!\")\n",
    "    elif bear == \"2\":\n",
    "        print (\"The bear eats your legs off. Good job!\")\n",
    "    else:\n",
    "        print (\"Well, doing {0} is probably better. Bear runs away.\".format(bear))"
   ]
  },
  {
   "cell_type": "markdown",
   "metadata": {},
   "source": [
    "注意：\n",
    "* “if 语句”的嵌套不要超过 2 层，最好尽量保持只有 1 层。这意味着如果你在 if 里边又有了一个 if，那你就需要把第二个 if 移到另一个函数里面。\n",
    "* 每一个“if 语句”必须包含一个else.\n",
    "* 将“if语句”当做段落来对待，其中的每一个if,elif,else组合就跟一个段落的句子组合一样。在这种组合的最前面和最后面留一个空行以作区分。"
   ]
  },
  {
   "cell_type": "markdown",
   "metadata": {},
   "source": [
    "5. 循环语句（for……loop, while……loop)"
   ]
  },
  {
   "cell_type": "markdown",
   "metadata": {},
   "source": [
    "* for …… loop : 用于将列表中元素从头到尾循环一次"
   ]
  },
  {
   "cell_type": "code",
   "execution_count": null,
   "metadata": {
    "collapsed": true
   },
   "outputs": [],
   "source": [
    "for n in numbers:\n",
    "    print n"
   ]
  },
  {
   "cell_type": "markdown",
   "metadata": {},
   "source": [
    "* while ……loop：会一直执行它下面的代码片段，直到它对应的布尔表达式为 False 时才会停下来"
   ]
  },
  {
   "cell_type": "code",
   "execution_count": null,
   "metadata": {
    "collapsed": true
   },
   "outputs": [],
   "source": [
    "i = 0\n",
    "    numbers = []\n",
    "    while i < n:\n",
    "        print \"At the top i is %d\" % i\n",
    "        numbers.append(i)\n",
    "        i +=1\n",
    "        print \"Numbers now: \" , numbers\n",
    "        print \"At the bottom i is %d\" % i\n",
    "    print \"The numbers: \"\n",
    "\n",
    "    for num in numbers:\n",
    "        print num"
   ]
  }
 ],
 "metadata": {
  "kernelspec": {
   "display_name": "Python 3",
   "language": "python",
   "name": "python3"
  },
  "language_info": {
   "codemirror_mode": {
    "name": "ipython",
    "version": 3
   },
   "file_extension": ".py",
   "mimetype": "text/x-python",
   "name": "python",
   "nbconvert_exporter": "python",
   "pygments_lexer": "ipython3",
   "version": "3.6.1"
  }
 },
 "nbformat": 4,
 "nbformat_minor": 2
}
